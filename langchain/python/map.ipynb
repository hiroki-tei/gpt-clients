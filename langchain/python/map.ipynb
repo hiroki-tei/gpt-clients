{
 "cells": [
  {
   "cell_type": "code",
   "execution_count": 44,
   "id": "327ac6ec-3d2e-4774-a59c-6338c466e32a",
   "metadata": {
    "tags": []
   },
   "outputs": [],
   "source": [
    "\n",
    "import os\n",
    "os.environ[\"LANGCHAIN_HANDLER\"] = \"langchain\"\n",
    "from langchain.agents import Tool, load_tools\n",
    "from langchain.memory import ConversationBufferMemory\n",
    "from langchain.chat_models import ChatOpenAI\n",
    "from langchain.utilities import SerpAPIWrapper\n",
    "from langchain.tools import GooglePlacesTool\n",
    "from langchain.agents import initialize_agent\n",
    "from langchain.agents import AgentType\n",
    "from langchain.prompts import (\n",
    "    ChatPromptTemplate,\n",
    "    SystemMessagePromptTemplate,\n",
    "    HumanMessagePromptTemplate\n",
    ")\n",
    "\n",
    "places = GooglePlacesTool()\n",
    "search = SerpAPIWrapper()\n",
    "\n",
    "tools = [\n",
    "    Tool(\n",
    "        name = \"Current Search\",\n",
    "        func=search.run,\n",
    "        description=\"useful for when you need to answer questions about current events or the current state of the world. the input to this should be a single search term.\"\n",
    "    ),\n",
    "    #Tool(\n",
    "    #    name = \"Geolocation search\",\n",
    "    #    func = places.run,\n",
    "    #    description=\"useful for when you need to answer questions about geolocational information like places, coordinates\"\n",
    "    #)\n",
    "\n",
    "]\n",
    "\n",
    "memory = ConversationBufferMemory(memory_key=\"chat_history\", return_messages=True)\n",
    "llm=ChatOpenAI(temperature=0)\n",
    "#tools = load_tools([\"human\"])\n",
    "#agent_chain = initialize_agent( tools, llm, agent=AgentType.CHAT_CONVERSATIONAL_REACT_DESCRIPTION, verbose=True, memory=memory)\n",
    "agent_chain = initialize_agent(tools, llm, agent=AgentType.CHAT_CONVERSATIONAL_REACT_DESCRIPTION, verbose=True, memory=memory)\n"
   ]
  },
  {
   "cell_type": "code",
   "execution_count": 48,
   "id": "2546858a-2423-45d6-af18-d586150262be",
   "metadata": {
    "tags": []
   },
   "outputs": [
    {
     "name": "stdout",
     "output_type": "stream",
     "text": [
      "\n",
      "\n",
      "\u001b[1m> Entering new AgentExecutor chain...\u001b[0m\n"
     ]
    },
    {
     "name": "stderr",
     "output_type": "stream",
     "text": [
      "WARNING:root:Failed to persist run: HTTPConnectionPool(host='localhost', port=8000): Max retries exceeded with url: /chain-runs (Caused by NewConnectionError('<urllib3.connection.HTTPConnection object at 0x109217cd0>: Failed to establish a new connection: [Errno 61] Connection refused'))\n"
     ]
    },
    {
     "name": "stdout",
     "output_type": "stream",
     "text": [
      "\u001b[32;1m\u001b[1;3m{\n",
      "    \"action\": \"Final Answer\",\n",
      "    \"action_input\": \"The given data does not contain any information that can be used to determine the correct location of the geojson. It is not possible to create an appropriate geojson that is mapped to a real-world reference system based on the given data alone.\"\n",
      "}\u001b[0m\n",
      "\n",
      "\u001b[1m> Finished chain.\u001b[0m\n"
     ]
    },
    {
     "ename": "ValidationError",
     "evalue": "1 validation error for HumanMessage\ncontent\n  str type expected (type=type_error.str)",
     "output_type": "error",
     "traceback": [
      "\u001b[0;31m---------------------------------------------------------------------------\u001b[0m",
      "\u001b[0;31mValidationError\u001b[0m                           Traceback (most recent call last)",
      "Cell \u001b[0;32mIn[48], line 47\u001b[0m\n\u001b[1;32m     45\u001b[0m chat_message_prompt \u001b[38;5;241m=\u001b[39m ChatPromptTemplate\u001b[38;5;241m.\u001b[39mfrom_messages([system_message_prompt, human_dataA])\n\u001b[1;32m     46\u001b[0m chat \u001b[38;5;241m=\u001b[39m chat_message_prompt\u001b[38;5;241m.\u001b[39mformat_prompt(textA\u001b[38;5;241m=\u001b[39mprompt, textB\u001b[38;5;241m=\u001b[39mprompt2)\u001b[38;5;241m.\u001b[39mto_messages()\n\u001b[0;32m---> 47\u001b[0m \u001b[43magent_chain\u001b[49m\u001b[38;5;241;43m.\u001b[39;49m\u001b[43mrun\u001b[49m\u001b[43m(\u001b[49m\u001b[38;5;28;43minput\u001b[39;49m\u001b[38;5;241;43m=\u001b[39;49m\u001b[43mchat\u001b[49m\u001b[43m)\u001b[49m\n",
      "File \u001b[0;32m~/Library/Caches/pypoetry/virtualenvs/app-GJR7UvBg-py3.11/lib/python3.11/site-packages/langchain/chains/base.py:216\u001b[0m, in \u001b[0;36mChain.run\u001b[0;34m(self, *args, **kwargs)\u001b[0m\n\u001b[1;32m    213\u001b[0m     \u001b[38;5;28;01mreturn\u001b[39;00m \u001b[38;5;28mself\u001b[39m(args[\u001b[38;5;241m0\u001b[39m])[\u001b[38;5;28mself\u001b[39m\u001b[38;5;241m.\u001b[39moutput_keys[\u001b[38;5;241m0\u001b[39m]]\n\u001b[1;32m    215\u001b[0m \u001b[38;5;28;01mif\u001b[39;00m kwargs \u001b[38;5;129;01mand\u001b[39;00m \u001b[38;5;129;01mnot\u001b[39;00m args:\n\u001b[0;32m--> 216\u001b[0m     \u001b[38;5;28;01mreturn\u001b[39;00m \u001b[38;5;28;43mself\u001b[39;49m\u001b[43m(\u001b[49m\u001b[43mkwargs\u001b[49m\u001b[43m)\u001b[49m[\u001b[38;5;28mself\u001b[39m\u001b[38;5;241m.\u001b[39moutput_keys[\u001b[38;5;241m0\u001b[39m]]\n\u001b[1;32m    218\u001b[0m \u001b[38;5;28;01mraise\u001b[39;00m \u001b[38;5;167;01mValueError\u001b[39;00m(\n\u001b[1;32m    219\u001b[0m     \u001b[38;5;124mf\u001b[39m\u001b[38;5;124m\"\u001b[39m\u001b[38;5;124m`run` supported with either positional arguments or keyword arguments\u001b[39m\u001b[38;5;124m\"\u001b[39m\n\u001b[1;32m    220\u001b[0m     \u001b[38;5;124mf\u001b[39m\u001b[38;5;124m\"\u001b[39m\u001b[38;5;124m but not both. Got args: \u001b[39m\u001b[38;5;132;01m{\u001b[39;00margs\u001b[38;5;132;01m}\u001b[39;00m\u001b[38;5;124m and kwargs: \u001b[39m\u001b[38;5;132;01m{\u001b[39;00mkwargs\u001b[38;5;132;01m}\u001b[39;00m\u001b[38;5;124m.\u001b[39m\u001b[38;5;124m\"\u001b[39m\n\u001b[1;32m    221\u001b[0m )\n",
      "File \u001b[0;32m~/Library/Caches/pypoetry/virtualenvs/app-GJR7UvBg-py3.11/lib/python3.11/site-packages/langchain/chains/base.py:118\u001b[0m, in \u001b[0;36mChain.__call__\u001b[0;34m(self, inputs, return_only_outputs)\u001b[0m\n\u001b[1;32m    116\u001b[0m     \u001b[38;5;28;01mraise\u001b[39;00m e\n\u001b[1;32m    117\u001b[0m \u001b[38;5;28mself\u001b[39m\u001b[38;5;241m.\u001b[39mcallback_manager\u001b[38;5;241m.\u001b[39mon_chain_end(outputs, verbose\u001b[38;5;241m=\u001b[39m\u001b[38;5;28mself\u001b[39m\u001b[38;5;241m.\u001b[39mverbose)\n\u001b[0;32m--> 118\u001b[0m \u001b[38;5;28;01mreturn\u001b[39;00m \u001b[38;5;28;43mself\u001b[39;49m\u001b[38;5;241;43m.\u001b[39;49m\u001b[43mprep_outputs\u001b[49m\u001b[43m(\u001b[49m\u001b[43minputs\u001b[49m\u001b[43m,\u001b[49m\u001b[43m \u001b[49m\u001b[43moutputs\u001b[49m\u001b[43m,\u001b[49m\u001b[43m \u001b[49m\u001b[43mreturn_only_outputs\u001b[49m\u001b[43m)\u001b[49m\n",
      "File \u001b[0;32m~/Library/Caches/pypoetry/virtualenvs/app-GJR7UvBg-py3.11/lib/python3.11/site-packages/langchain/chains/base.py:170\u001b[0m, in \u001b[0;36mChain.prep_outputs\u001b[0;34m(self, inputs, outputs, return_only_outputs)\u001b[0m\n\u001b[1;32m    168\u001b[0m \u001b[38;5;28mself\u001b[39m\u001b[38;5;241m.\u001b[39m_validate_outputs(outputs)\n\u001b[1;32m    169\u001b[0m \u001b[38;5;28;01mif\u001b[39;00m \u001b[38;5;28mself\u001b[39m\u001b[38;5;241m.\u001b[39mmemory \u001b[38;5;129;01mis\u001b[39;00m \u001b[38;5;129;01mnot\u001b[39;00m \u001b[38;5;28;01mNone\u001b[39;00m:\n\u001b[0;32m--> 170\u001b[0m     \u001b[38;5;28;43mself\u001b[39;49m\u001b[38;5;241;43m.\u001b[39;49m\u001b[43mmemory\u001b[49m\u001b[38;5;241;43m.\u001b[39;49m\u001b[43msave_context\u001b[49m\u001b[43m(\u001b[49m\u001b[43minputs\u001b[49m\u001b[43m,\u001b[49m\u001b[43m \u001b[49m\u001b[43moutputs\u001b[49m\u001b[43m)\u001b[49m\n\u001b[1;32m    171\u001b[0m \u001b[38;5;28;01mif\u001b[39;00m return_only_outputs:\n\u001b[1;32m    172\u001b[0m     \u001b[38;5;28;01mreturn\u001b[39;00m outputs\n",
      "File \u001b[0;32m~/Library/Caches/pypoetry/virtualenvs/app-GJR7UvBg-py3.11/lib/python3.11/site-packages/langchain/memory/chat_memory.py:35\u001b[0m, in \u001b[0;36mBaseChatMemory.save_context\u001b[0;34m(self, inputs, outputs)\u001b[0m\n\u001b[1;32m     33\u001b[0m \u001b[38;5;250m\u001b[39m\u001b[38;5;124;03m\"\"\"Save context from this conversation to buffer.\"\"\"\u001b[39;00m\n\u001b[1;32m     34\u001b[0m input_str, output_str \u001b[38;5;241m=\u001b[39m \u001b[38;5;28mself\u001b[39m\u001b[38;5;241m.\u001b[39m_get_input_output(inputs, outputs)\n\u001b[0;32m---> 35\u001b[0m \u001b[38;5;28;43mself\u001b[39;49m\u001b[38;5;241;43m.\u001b[39;49m\u001b[43mchat_memory\u001b[49m\u001b[38;5;241;43m.\u001b[39;49m\u001b[43madd_user_message\u001b[49m\u001b[43m(\u001b[49m\u001b[43minput_str\u001b[49m\u001b[43m)\u001b[49m\n\u001b[1;32m     36\u001b[0m \u001b[38;5;28mself\u001b[39m\u001b[38;5;241m.\u001b[39mchat_memory\u001b[38;5;241m.\u001b[39madd_ai_message(output_str)\n",
      "File \u001b[0;32m~/Library/Caches/pypoetry/virtualenvs/app-GJR7UvBg-py3.11/lib/python3.11/site-packages/langchain/memory/chat_message_histories/in_memory.py:17\u001b[0m, in \u001b[0;36mChatMessageHistory.add_user_message\u001b[0;34m(self, message)\u001b[0m\n\u001b[1;32m     16\u001b[0m \u001b[38;5;28;01mdef\u001b[39;00m \u001b[38;5;21madd_user_message\u001b[39m(\u001b[38;5;28mself\u001b[39m, message: \u001b[38;5;28mstr\u001b[39m) \u001b[38;5;241m-\u001b[39m\u001b[38;5;241m>\u001b[39m \u001b[38;5;28;01mNone\u001b[39;00m:\n\u001b[0;32m---> 17\u001b[0m     \u001b[38;5;28mself\u001b[39m\u001b[38;5;241m.\u001b[39mmessages\u001b[38;5;241m.\u001b[39mappend(\u001b[43mHumanMessage\u001b[49m\u001b[43m(\u001b[49m\u001b[43mcontent\u001b[49m\u001b[38;5;241;43m=\u001b[39;49m\u001b[43mmessage\u001b[49m\u001b[43m)\u001b[49m)\n",
      "File \u001b[0;32m~/Library/Caches/pypoetry/virtualenvs/app-GJR7UvBg-py3.11/lib/python3.11/site-packages/pydantic/main.py:341\u001b[0m, in \u001b[0;36mpydantic.main.BaseModel.__init__\u001b[0;34m()\u001b[0m\n",
      "\u001b[0;31mValidationError\u001b[0m: 1 validation error for HumanMessage\ncontent\n  str type expected (type=type_error.str)"
     ]
    }
   ],
   "source": [
    "\n",
    "prompt = \"\"\"\n",
    "##background##\n",
    "user has geojson belongs to district respresent as \"東京都新宿区西新宿三丁目\" but the coordinates is incorrect.\n",
    "\n",
    "##Prompt##\n",
    "create appropriate geojson that is mapped real world reference system.\n",
    "you can guess where this geojson should be placed from address (地番) in given data.\n",
    "tell me your result in geojson\n",
    "\n",
    "##Input data##\n",
    "\n",
    "{\n",
    "\"type\": \"FeatureCollection\",\n",
    "\"name\": \"13104-0100-10\",\n",
    "\"features\": [\n",
    "{ \"type\": \"Feature\", \"properties\": { \"地番\": \"20-2\" }, \"geometry\": { \"type\": \"MultiPolygon\", \"coordinates\": [ [ [ [ -108.878, 104.374 ], [ -140.892, 62.532 ], [ -138.822, 60.379 ], [ -84.63, 28.4 ], [ -69.973, 21.171 ], [ -68.098, 20.668 ], [ -67.02, 21.274 ], [ -60.311, 17.801 ], [ -24.007, 1.52 ], [ -19.959, 7.341 ], [ -24.189, 9.774 ], [ -32.257, 11.18 ], [ -58.198, 22.855 ], [ -63.063, 25.254 ], [ -63.963, 29.189 ], [ -31.794, 72.3 ], [ -71.981, 103.08 ], [ -80.996, 91.244 ], [ -81.187, 91.371 ], [ -85.451, 94.629 ], [ -87.487, 96.179 ], [ -93.215, 100.544 ], [ -99.165, 105.1 ], [ -90.086, 116.968 ], [ -93.586, 119.657 ], [ -106.619, 102.666 ], [ -108.878, 104.374 ] ] ] ] } },\n",
    "{ \"type\": \"Feature\", \"properties\": { \"地番\": \"20-3\" }, \"geometry\": { \"type\": \"MultiPolygon\", \"coordinates\": [ [ [ [ -80.996, 91.244 ], [ -71.981, 103.08 ], [ -72.14, 103.207 ], [ -81.187, 91.371 ], [ -80.996, 91.244 ] ] ] ] } },\n",
    "{ \"type\": \"Feature\", \"properties\": { \"地番\": \"20-4\" }, \"geometry\": { \"type\": \"MultiPolygon\", \"coordinates\": [ [ [ [ -81.187, 91.371 ], [ -72.14, 103.207 ], [ -76.435, 106.497 ], [ -85.451, 94.629 ], [ -81.187, 91.371 ] ] ] ] } },\n",
    "{ \"type\": \"Feature\", \"properties\": { \"地番\": \"20-5\" }, \"geometry\": { \"type\": \"MultiPolygon\", \"coordinates\": [ [ [ [ -85.451, 94.629 ], [ -76.435, 106.497 ], [ -78.44, 108.015 ], [ -87.487, 96.179 ], [ -85.451, 94.629 ] ] ] ] } },\n",
    "{ \"type\": \"Feature\", \"properties\": { \"地番\": \"20-6\" }, \"geometry\": { \"type\": \"MultiPolygon\", \"coordinates\": [ [ [ [ -87.487, 96.179 ], [ -78.44, 108.015 ], [ -84.167, 112.413 ], [ -93.215, 100.544 ], [ -87.487, 96.179 ] ] ] ] } },\n",
    "{ \"type\": \"Feature\", \"properties\": { \"地番\": \"20-7\" }, \"geometry\": { \"type\": \"MultiPolygon\", \"coordinates\": [ [ [ [ -99.165, 105.1 ], [ -93.215, 100.544 ], [ -84.167, 112.413 ], [ -90.086, 116.968 ], [ -99.165, 105.1 ] ] ] ] } },\n",
    "{ \"type\": \"Feature\", \"properties\": { \"地番\": \"20-8\" }, \"geometry\": { \"type\": \"MultiPolygon\", \"coordinates\": [ [ [ [ -112.364, 124.652 ], [ -120.874, 113.579 ], [ -108.878, 104.374 ], [ -106.619, 102.666 ], [ -93.586, 119.657 ], [ -102.113, 126.173 ], [ -106.637, 120.287 ], [ -112.364, 124.652 ] ] ] ] } },\n",
    "{ \"type\": \"Feature\", \"properties\": { \"地番\": \"20-9\" }, \"geometry\": { \"type\": \"MultiPolygon\", \"coordinates\": [ [ [ [ -106.637, 120.287 ], [ -102.113, 126.173 ], [ -107.872, 130.571 ], [ -112.364, 124.652 ], [ -106.637, 120.287 ] ] ] ] } },\n",
    "{ \"type\": \"Feature\", \"properties\": { \"地番\": \"20-10\" }, \"geometry\": { \"type\": \"MultiPolygon\", \"coordinates\": [ [ [ [ -150.699, 72.506 ], [ -149.171, 71.145 ], [ -140.892, 62.532 ], [ -108.878, 104.374 ], [ -120.874, 113.579 ], [ -112.364, 124.652 ], [ -107.872, 130.571 ], [ -122.382, 141.706 ], [ -132.568, 128.406 ], [ -143.163, 136.536 ], [ -152.168, 143.464 ], [ -141.982, 156.764 ], [ -146.055, 159.864 ], [ -192.051, 99.79 ], [ -150.699, 72.506 ] ] ] ] } },\n",
    "{ \"type\": \"Feature\", \"properties\": { \"地番\": \"20-11\" }, \"geometry\": { \"type\": \"MultiPolygon\", \"coordinates\": [ [ [ [ -132.568, 128.406 ], [ -122.382, 141.706 ], [ -132.977, 149.836 ], [ -143.163, 136.536 ], [ -132.568, 128.406 ] ] ] ] } },\n",
    "{ \"type\": \"Feature\", \"properties\": { \"地番\": \"20-12\" }, \"geometry\": { \"type\": \"MultiPolygon\", \"coordinates\": [ [ [ [ -143.163, 136.536 ], [ -132.977, 149.836 ], [ -141.982, 156.764 ], [ -152.168, 143.464 ], [ -143.163, 136.536 ] ] ] ] } },\n",
    "{ \"type\": \"Feature\", \"properties\": { \"地番\": \"20-13\" }, \"geometry\": { \"type\": \"MultiPolygon\", \"coordinates\": [ [ [ [ -209.79, 164.511 ], [ -218.254, 171.028 ], [ -242.804, 139.653 ], [ -205.538, 108.706 ], [ -192.051, 99.79 ], [ -146.055, 159.864 ], [ -154.709, 166.507 ], [ -164.453, 153.811 ], [ -175.78, 162.543 ], [ -179.026, 165.042 ], [ -183.894, 168.743 ], [ -190.067, 173.488 ], [ -198.021, 179.562 ], [ -198.117, 179.657 ], [ -203.337, 172.911 ], [ -209.79, 164.511 ] ] ] ] } },\n",
    "{ \"type\": \"Feature\", \"properties\": { \"地番\": \"20-14\" }, \"geometry\": { \"type\": \"MultiPolygon\", \"coordinates\": [ [ [ [ -164.453, 153.811 ], [ -154.709, 166.507 ], [ -166.1, 175.238 ], [ -175.78, 162.543 ], [ -164.453, 153.811 ] ] ] ] } },\n",
    "{ \"type\": \"Feature\", \"properties\": { \"地番\": \"20-15\" }, \"geometry\": { \"type\": \"MultiPolygon\", \"coordinates\": [ [ [ [ -179.026, 165.042 ], [ -175.78, 162.543 ], [ -166.1, 175.238 ], [ -169.346, 177.737 ], [ -179.026, 165.042 ] ] ] ] } },\n",
    "{ \"type\": \"Feature\", \"properties\": { \"地番\": \"20-16\" }, \"geometry\": { \"type\": \"MultiPolygon\", \"coordinates\": [ [ [ [ -183.894, 168.743 ], [ -179.026, 165.042 ], [ -169.346, 177.737 ], [ -174.182, 181.438 ], [ -183.894, 168.743 ] ] ] ] } },\n",
    "{ \"type\": \"Feature\", \"properties\": { \"地番\": \"20-17\" }, \"geometry\": { \"type\": \"MultiPolygon\", \"coordinates\": [ [ [ [ -186.809, 177.752 ], [ -190.067, 173.488 ], [ -183.894, 168.743 ], [ -174.182, 181.438 ], [ -180.355, 186.184 ], [ -186.809, 177.752 ] ] ] ] } },\n",
    "{ \"type\": \"Feature\", \"properties\": { \"地番\": \"20-18\" }, \"geometry\": { \"type\": \"MultiPolygon\", \"coordinates\": [ [ [ [ -191.963, 181.738 ], [ -186.809, 177.752 ], [ -180.355, 186.184 ], [ -185.542, 190.201 ], [ -191.963, 181.738 ] ] ] ] } },\n",
    "{ \"type\": \"Feature\", \"properties\": { \"地番\": \"20-19\" }, \"geometry\": { \"type\": \"MultiPolygon\", \"coordinates\": [ [ [ [ -190.366, 189.553 ], [ -198.021, 179.562 ], [ -190.067, 173.488 ], [ -186.809, 177.752 ], [ -191.963, 181.738 ], [ -185.542, 190.201 ], [ -190.366, 189.553 ] ] ] ] } },\n",
    "{ \"type\": \"Feature\", \"properties\": { \"地番\": \"20-20\" }, \"geometry\": { \"type\": \"MultiPolygon\", \"coordinates\": [ [ [ [ -205.41, 187.574 ], [ -211.769, 179.396 ], [ -203.337, 172.911 ], [ -198.117, 179.657 ], [ -198.021, 179.562 ], [ -190.366, 189.553 ], [ -205.41, 187.574 ] ] ] ] } },\n",
    "{ \"type\": \"Feature\", \"properties\": { \"地番\": \"20-21\" }, \"geometry\": { \"type\": \"MultiPolygon\", \"coordinates\": [ [ [ [ -218.254, 171.028 ], [ -209.79, 164.511 ], [ -203.337, 172.911 ], [ -211.769, 179.396 ], [ -218.254, 171.028 ] ] ] ] } },\n",
    "{ \"type\": \"Feature\", \"properties\": { \"地番\": \"20-22\" }, \"geometry\": { \"type\": \"MultiPolygon\", \"coordinates\": [ [ [ [ -43.405, 91.35 ], [ -42.898, 92.05 ], [ -179.814, 197.044 ], [ -185.542, 190.201 ], [ -180.355, 186.184 ], [ -174.182, 181.438 ], [ -169.346, 177.737 ], [ -166.1, 175.238 ], [ -154.709, 166.507 ], [ -146.055, 159.864 ], [ -141.982, 156.764 ], [ -132.977, 149.836 ], [ -122.382, 141.706 ], [ -107.872, 130.571 ], [ -102.113, 126.173 ], [ -93.586, 119.657 ], [ -90.086, 116.968 ], [ -84.167, 112.413 ], [ -78.44, 108.015 ], [ -76.435, 106.497 ], [ -72.14, 103.207 ], [ -71.981, 103.08 ], [ -31.794, 72.3 ], [ -26.954, 78.728 ], [ -43.405, 91.35 ] ] ] ] } }\n",
    "]\n",
    "}\n",
    "\"\"\"\n",
    "\n",
    "\n",
    "\n",
    "system_message_prompt = HumanMessagePromptTemplate.from_template(\"{textA}\")\n",
    "human_dataA = HumanMessagePromptTemplate.from_template(\"{textB}\")\n",
    "chat_message_prompt = ChatPromptTemplate.from_messages([system_message_prompt, human_dataA])\n",
    "chat = chat_message_prompt.format_prompt(textA=prompt, textB=prompt2).to_messages()\n",
    "agent_chain.run(input=chat)"
   ]
  },
  {
   "cell_type": "code",
   "execution_count": null,
   "id": "3099be45-ac3e-4ee3-be4e-52687a0bf978",
   "metadata": {},
   "outputs": [],
   "source": []
  }
 ],
 "metadata": {
  "kernelspec": {
   "display_name": "Python 3 (ipykernel)",
   "language": "python",
   "name": "python3"
  },
  "language_info": {
   "codemirror_mode": {
    "name": "ipython",
    "version": 3
   },
   "file_extension": ".py",
   "mimetype": "text/x-python",
   "name": "python",
   "nbconvert_exporter": "python",
   "pygments_lexer": "ipython3",
   "version": "3.11.3"
  },
  "toc-autonumbering": false,
  "toc-showcode": false,
  "toc-showmarkdowntxt": false,
  "toc-showtags": false
 },
 "nbformat": 4,
 "nbformat_minor": 5
}
