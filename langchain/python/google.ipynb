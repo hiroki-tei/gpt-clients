{
 "cells": [
  {
   "cell_type": "code",
   "execution_count": 1,
   "id": "2fd716e8-b5e0-4ebf-9de6-5842e1e8bdf9",
   "metadata": {
    "tags": []
   },
   "outputs": [
    {
     "name": "stderr",
     "output_type": "stream",
     "text": [
      "WARNING:root:Failed to default session, using empty session: HTTPConnectionPool(host='localhost', port=8000): Max retries exceeded with url: /sessions (Caused by NewConnectionError('<urllib3.connection.HTTPConnection object at 0x11783ac10>: Failed to establish a new connection: [Errno 61] Connection refused'))\n"
     ]
    },
    {
     "ename": "NameError",
     "evalue": "name 'GooglePlacesTool' is not defined",
     "output_type": "error",
     "traceback": [
      "\u001b[0;31m---------------------------------------------------------------------------\u001b[0m",
      "\u001b[0;31mNameError\u001b[0m                                 Traceback (most recent call last)",
      "Cell \u001b[0;32mIn[1], line 15\u001b[0m\n\u001b[1;32m      9\u001b[0m \u001b[38;5;28;01mfrom\u001b[39;00m \u001b[38;5;21;01mlangchain\u001b[39;00m\u001b[38;5;21;01m.\u001b[39;00m\u001b[38;5;21;01mprompts\u001b[39;00m \u001b[38;5;28;01mimport\u001b[39;00m (\n\u001b[1;32m     10\u001b[0m     ChatPromptTemplate,\n\u001b[1;32m     11\u001b[0m     SystemMessagePromptTemplate,\n\u001b[1;32m     12\u001b[0m     HumanMessagePromptTemplate\n\u001b[1;32m     13\u001b[0m )\n\u001b[1;32m     14\u001b[0m search \u001b[38;5;241m=\u001b[39m SerpAPIWrapper()\n\u001b[0;32m---> 15\u001b[0m places \u001b[38;5;241m=\u001b[39m \u001b[43mGooglePlacesTool\u001b[49m()\n\u001b[1;32m     17\u001b[0m tools \u001b[38;5;241m=\u001b[39m [\n\u001b[1;32m     18\u001b[0m     Tool(\n\u001b[1;32m     19\u001b[0m         name \u001b[38;5;241m=\u001b[39m \u001b[38;5;124m\"\u001b[39m\u001b[38;5;124mCurrent Search\u001b[39m\u001b[38;5;124m\"\u001b[39m,\n\u001b[0;32m   (...)\u001b[0m\n\u001b[1;32m     23\u001b[0m \n\u001b[1;32m     24\u001b[0m ]\n\u001b[1;32m     27\u001b[0m memory \u001b[38;5;241m=\u001b[39m ConversationBufferMemory(memory_key\u001b[38;5;241m=\u001b[39m\u001b[38;5;124m\"\u001b[39m\u001b[38;5;124mchat_history\u001b[39m\u001b[38;5;124m\"\u001b[39m, return_messages\u001b[38;5;241m=\u001b[39m\u001b[38;5;28;01mTrue\u001b[39;00m)\n",
      "\u001b[0;31mNameError\u001b[0m: name 'GooglePlacesTool' is not defined"
     ]
    }
   ],
   "source": [
    "import os\n",
    "os.environ[\"LANGCHAIN_HANDLER\"] = \"langchain\"\n",
    "from langchain.agents import Tool, load_tools\n",
    "from langchain.memory import ConversationBufferMemory\n",
    "from langchain.chat_models import ChatOpenAI\n",
    "from langchain.utilities import SerpAPIWrapper\n",
    "from langchain.agents import initialize_agent\n",
    "from langchain.agents import AgentType\n",
    "from langchain.prompts import (\n",
    "    ChatPromptTemplate,\n",
    "    SystemMessagePromptTemplate,\n",
    "    HumanMessagePromptTemplate\n",
    ")\n",
    "search = SerpAPIWrapper()\n",
    "\n",
    "tools = [\n",
    "    Tool(\n",
    "        name = \"Current Search\",\n",
    "        func=search.run,\n",
    "        description=\"useful for when you need to answer questions about current events or the current state of the world. the input to this should be a single search term.\"\n",
    "    ),\n",
    "\n",
    "]\n",
    "\n",
    "\n",
    "memory = ConversationBufferMemory(memory_key=\"chat_history\", return_messages=True)\n",
    "llm=ChatOpenAI(temperature=0)\n",
    "#tools = load_tools([\"human\"])\n",
    "#agent_chain = initialize_agent( tools, llm, agent=AgentType.CHAT_CONVERSATIONAL_REACT_DESCRIPTION, verbose=True, memory=memory)\n",
    "agent_chain = initialize_agent(tools, llm, agent=AgentType.CHAT_CONVERSATIONAL_REACT_DESCRIPTION, verbose=True, memory=memory)\n",
    "\n",
    "\n",
    "prompt = \"\"\"\n",
    "##背景##\n",
    "これから、ある物件資料をOCRスキャンして得られたテキストを渡します。\n",
    "\n",
    "\n",
    "##プロンプト##\n",
    "この資料に記載されている物件の向きを教えてください。\n",
    "それとは別に現在の最新の情報から、この物件の向きを教えてください\n",
    "\n",
    "##出力形式##\n",
    "資料記載の向き：\n",
    "最新情報から判断した向き：\n",
    "\n",
    "\n",
    "\"\"\"\n",
    "\n",
    "\n",
    "\n",
    "prompt2 = \"\"\"\n",
    "##資料テキスト##\n",
    "I LIFULL LA HOME'S\\n不動産 · 住宅情報サイトLIFULL HOME'S 賃貨 東京都\\n東京23区\\n墨田区\\n押上駅 パークアクシス押上サウス 11階\\n賃貸マンション パークアクシス押上サウス 11階\\n23万円(15,000円)\\n1ヶ月/無 -/-\\n東武伊勢崎線 押上駅 徒歩6分\\n京成押上線 押上駅 徒歩6分\\nJR総武線 錦糸町駅 徒歩14分\\n他に26駅が利用可能(地図で調べる)\\n通勤·通学駅までの経路·所要時間を調べる\\n東京都墨田区横川3丁目11番17号\\n地図を見る\\n2019年9月(築4年) 東 2LDK ( リビングダイニングキッチン 12.2帖 洋室 6帖 洋室 3.7帖)\\n51.2m2\\nサウナ偏愛 ペットと暮らせる二人暮らし 楽器を演奏したい\\n電話でお問合せ(通話無料)\\n詳しくはこちら\\n0037-633-62451 お問合せ番号(6桁) 329796\\n3/5個の条件を満たしています\\n詳細を見る\\nRT Todlet HI\\nEntrance Prize mall\\nYY She's Boa\\nPS\\nBedroom (2) 3.7\\n人\\n外部\\n外観\\nLin Powder Room\\nHall\\nBat! 1317\\n間取り\\nエントランス\\nWIC\\n*********\\n駐車場 その他\\nLiving Dining Kitchen\\nR\\nBedroom (1)\\n12.2]\\n6.0T\\nSerure ral\\n12\\n次の6枚\\nBalcony\\n間取り\\n条件合致数\\n3/5個の条件を満たしています\\nあなたの希望条件\\nこの物件\\nあなたの希望条件 この物件\\n間取り 2DK 2LDK\\nエリア\\n京成本線 京成関屋 他\\n駅徒歩分\\n15分以内\\n東武伊勢崎線 押上駅\\n徒歩6分 他\\n物件種別\\nマンション\\nアパート\\n一戸建て\\nペット相談可 欲しい\\n3/19枚\\n東武伊勢崎線 押上駅\\n他\\n賃貸マンション\\n取扱う会社が 11 社あります。\\nLIFULL HOME'Sでは、主要項目が同一の物件を1つにまとめて表示しています。詳しくはこちら\\nこの賃貸マンションの情報\\n物件詳細情報\\n賃料(管理費等)\\n23万円 (15,000円)\\n予算に合うか\\n総額を聞いてみませんか?\\n·\\n敷金 / 礼金\\n1ヶ月/無\\n保証金 /敷引 · 償\\n却金\\n-/ -\\nその他費用\\n口座振替事務手数料(税込)/月額:110円、退去時における通常清掃費用(税込):67,584円、ペット飼育時/敷金1ヶ月ア\\nップ:472,000円\\n建物構造\\nRC(鉄筋コンクリート)\\n所在階 /階数\\n11階/ 11階建\\n駐車場\\n無\\n総戸数\\n84戸\\n契約期間\\n2年間\\n更新料\\n新賃料の1ヶ月分\\n保証会社\\n加入要\\n保証会社利用料:レジデントアシスタンス\\n初\\n回保証委託料(最低2万円):月額賃料等の50%、\\n2年目以降:9600円/年\\n住宅保険\\n要\\n現況\\n空家\\n入居可能時期\\n即時\\nLIFULL HOME'S\\n物件番号\\n0122772-0231731\\n取引態様\\n仲介\\n情報登録日\\n2022/08/27\\n情報更新日\\n2022/11/20\\n次回更新予定日\\n2022/11/26\\nこの物件についているタグ\\n-\\n-\\nサウナ偏愛\\nペットと暮らせる二人暮らし\\n楽器を演奏したい\\nペットと暮らしたい\\n服に囲まれたい\\nこの物件のこだわり/設備·条件\\nこの物件のこだわり\\n新築\\nバス·トイレ別\\n南向き\\n2階以上の物件 追焚機能\\nフローサンダ\\n駐車場あり\\nペット相談可\\nオートロック\\nエアコン\\n入居条件\\n楽器相談可、二人入居可、ペット相談、即入居可\\nキッチン/バス·ト\\n給湯、専用バス、専用トイレ、バス·トイレ別、追焚機能、シャワー、浴室乾燥機、洗面所独立\\nイレ\\n設備·サービス\\nオートロック、エアコン、ウォークインクローゼット、クローゼット、シューズボックス、インターネット対応、\\n公営水道、下水、バルコニー、室内洗濯機置場、宅配ボックス、駐輪場あり\\n備考\\n駐輪ステッカー代(税込) 1100円 入居時における玄関錠交換代(税込) 16500円\\n取扱う会社が 11 社あります。\\n物件の周辺情報\\n買い物\\nコンビニ(261m) スーパー(544m)\\n交通情報\\n東武伊勢崎線 押上駅 徒歩6分\\n普通\\n区間準急\\n準急\\n区間急行\\n急行\\n京成押上線 押上駅 徒歩6分\n",
    "\"\"\"\n",
    "\n",
    "\n",
    "\n",
    "system_message_prompt = HumanMessagePromptTemplate.from_template(\"{textA}\")\n",
    "human_dataA = HumanMessagePromptTemplate.from_template(\"{textB}\")\n",
    "chat_message_prompt = ChatPromptTemplate.from_messages([system_message_prompt, human_dataA])\n",
    "chat = chat_message_prompt.format_prompt(textA=prompt, textB=prompt2).to_messages()\n",
    "agent_chain.run(input=chat)\n"
   ]
  },
  {
   "cell_type": "code",
   "execution_count": null,
   "id": "9f860e83-4f23-4cf8-a316-53edbc5d601c",
   "metadata": {},
   "outputs": [],
   "source": []
  }
 ],
 "metadata": {
  "kernelspec": {
   "display_name": "Python 3 (ipykernel)",
   "language": "python",
   "name": "python3"
  },
  "language_info": {
   "codemirror_mode": {
    "name": "ipython",
    "version": 3
   },
   "file_extension": ".py",
   "mimetype": "text/x-python",
   "name": "python",
   "nbconvert_exporter": "python",
   "pygments_lexer": "ipython3",
   "version": "3.11.3"
  }
 },
 "nbformat": 4,
 "nbformat_minor": 5
}
